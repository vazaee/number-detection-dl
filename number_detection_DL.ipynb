{
  "nbformat": 4,
  "nbformat_minor": 0,
  "metadata": {
    "colab": {
      "name": "Number_detection_DL_ipynb",
      "provenance": []
    },
    "kernelspec": {
      "name": "python3",
      "display_name": "Python 3"
    },
    "language_info": {
      "name": "python"
    }
  },
  "cells": [
    {
      "cell_type": "markdown",
      "metadata": {
        "id": "_yGA5OJ6PV7n"
      },
      "source": [
        "This work consists of the implementation of a deep neural network for categorizing images of numbers"
      ]
    },
    {
      "cell_type": "code",
      "metadata": {
        "id": "pNDUiZDI18Yd"
      },
      "source": [
        "import numpy    #import library for matrix manipulation\n",
        "from matplotlib import pyplot as plt  #import library for graph creation  \n",
        "from keras.datasets import mnist      #import mnist dataset\n",
        "from keras.models import Sequential   #import sequential model\n",
        "from keras.layers import Dense        #import densely-connected layer\n",
        "from keras.layers import Dropout      #import dropout structure\n",
        "from keras.utils import np_utils      #import utilities library from keras"
      ],
      "execution_count": 13,
      "outputs": []
    },
    {
      "cell_type": "code",
      "metadata": {
        "id": "RmXlqA2YG46f"
      },
      "source": [
        "(X_train, y_train), (X_test, y_test) = mnist.load_data()    #import the Mnist dataset from Keras library\n",
        "print(X_train.shape)    #print vector size\n",
        "\n",
        "first_image = X_train[100]   #get the image from index 100 of the train vector\n",
        "#performs image data manipulation\n",
        "first_image = numpy.array(first_image, dtype='float')\n",
        "pixels = first_image.reshape((28, 28))\n",
        "#show vector image\n",
        "plt.imshow(pixels, cmap='gray')\n",
        "plt.show()\n",
        "\n",
        "print(y_train[100])   #print class from training image of index 100 "
      ],
      "execution_count": null,
      "outputs": []
    },
    {
      "cell_type": "code",
      "metadata": {
        "id": "SVTlff2cbjig"
      },
      "source": [
        "num_pixels = X_train.shape[1] * X_train.shape[2] #calculate amount of pixels from the image\n",
        "print(num_pixels)\n",
        "\n",
        "#convert pixels values to float32\n",
        "X_train2 = X_train.reshape(X_train.shape[0], num_pixels).astype('float32')\n",
        "X_test2 = X_test.reshape(X_test.shape[0], num_pixels).astype('float32')\n",
        "\n",
        "X_train2 = X_train2 / 255\n",
        "X_test2 = X_test2 / 255\n",
        "\n",
        "# print(X_train2[100])"
      ],
      "execution_count": null,
      "outputs": []
    },
    {
      "cell_type": "code",
      "metadata": {
        "colab": {
          "base_uri": "https://localhost:8080/"
        },
        "id": "L6enFyMEfEw2",
        "outputId": "90c1cb26-535e-4981-f994-1281a071807a"
      },
      "source": [
        "y_train = np_utils.to_categorical(y_train)\n",
        "print(y_train[1000])"
      ],
      "execution_count": 16,
      "outputs": [
        {
          "output_type": "stream",
          "name": "stdout",
          "text": [
            "[1. 0. 0. 0. 0. 0. 0. 0. 0. 0.]\n"
          ]
        }
      ]
    }
  ]
}