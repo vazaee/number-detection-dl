{
  "nbformat": 4,
  "nbformat_minor": 0,
  "metadata": {
    "colab": {
      "name": "Number_detection_DL_ipynb",
      "provenance": []
    },
    "kernelspec": {
      "name": "python3",
      "display_name": "Python 3"
    },
    "language_info": {
      "name": "python"
    },
    "accelerator": "GPU"
  },
  "cells": [
    {
      "cell_type": "markdown",
      "metadata": {
        "id": "_yGA5OJ6PV7n"
      },
      "source": [
        "This work consists of the implementation of a MLP for categorizing images of numbers"
      ]
    },
    {
      "cell_type": "code",
      "metadata": {
        "id": "pNDUiZDI18Yd"
      },
      "source": [
        "import numpy    #import library for matrix manipulation\n",
        "from matplotlib import pyplot as plt        #import library for graph creation  \n",
        "from keras.datasets import mnist            #import mnist dataset\n",
        "from keras.models import Sequential         #import sequential model\n",
        "from keras.layers import Dense, InputLayer  #import densely-connected layer\n",
        "from keras.layers import Dropout            #import dropout structure\n",
        "from keras.utils import np_utils            #import utilities library from keras"
      ],
      "execution_count": 1,
      "outputs": []
    },
    {
      "cell_type": "code",
      "metadata": {
        "id": "RmXlqA2YG46f"
      },
      "source": [
        "(X_train, y_train), (X_test, y_test) = mnist.load_data()    #import the Mnist dataset from Keras library\n",
        "print(X_train.shape)    #print vector size\n",
        "\n",
        "first_image = X_train[100]   #get the image from index 100 of the train vector\n",
        "#performs image data manipulation\n",
        "first_image = numpy.array(first_image, dtype='float')\n",
        "pixels = first_image.reshape((28, 28))\n",
        "#show vector image\n",
        "plt.imshow(pixels, cmap='gray')\n",
        "plt.show()\n",
        "\n",
        "print(y_train[100])   #print class from training image of index 100 "
      ],
      "execution_count": null,
      "outputs": []
    },
    {
      "cell_type": "code",
      "metadata": {
        "id": "SVTlff2cbjig"
      },
      "source": [
        "num_pixels = X_train.shape[1] * X_train.shape[2] #calculate amount of pixels from the image\n",
        "print(num_pixels)\n",
        "\n",
        "#convert pixels values to float32\n",
        "X_train2 = X_train.reshape(X_train.shape[0], num_pixels).astype('float32')\n",
        "X_test2 = X_test.reshape(X_test.shape[0], num_pixels).astype('float32')\n",
        "\n",
        "#normalize pixels values to 0 and 1\n",
        "X_train2 = X_train2 / 255\n",
        "X_test2 = X_test2 / 255\n",
        "\n",
        "# print(X_train2[100])"
      ],
      "execution_count": null,
      "outputs": []
    },
    {
      "cell_type": "code",
      "metadata": {
        "id": "L6enFyMEfEw2"
      },
      "source": [
        "#transform y in one hot vector\n",
        "y_train_h = np_utils.to_categorical(y_train)\n",
        "y_test_h = np_utils.to_categorical(y_test)\n",
        "\n",
        "#get number of classes of the problem\n",
        "num_classes = y_test_h.shape[1]\n",
        "\n",
        "print(y_train[1000])\n",
        "print(y_train_h[1000])"
      ],
      "execution_count": null,
      "outputs": []
    },
    {
      "cell_type": "code",
      "metadata": {
        "id": "1WuK_d5Q7b5-"
      },
      "source": [
        "#creating a feedfoward network\n",
        "model = Sequential()\n",
        "model.add(InputLayer(input_shape=num_pixels)) #create input layer of the network\n",
        "model.add(Dense(1024, kernel_initializer='normal',activation='relu')) #create the first layer of the network\n",
        "model.add(Dense(2048, kernel_initializer='normal', activation='relu')) #create the second layer of the network\n",
        "model.add(Dense(num_classes, kernel_initializer='normal', activation='softmax')) #create the exit layer of the network\n",
        "\n",
        "model.summary()   #print informations about the model"
      ],
      "execution_count": null,
      "outputs": []
    },
    {
      "cell_type": "code",
      "metadata": {
        "colab": {
          "base_uri": "https://localhost:8080/"
        },
        "id": "-84PxD3dFQ5V",
        "outputId": "0b792398-f1b0-4cef-c9d8-9b8f9d887538"
      },
      "source": [
        "model.compile(loss='categorical_crossentropy', optimizer='adam', metrics=['accuracy'])  #compile the created model\n",
        "result = model.fit(X_train2, y_train_h, validation_data=(X_test2, y_test_h), epochs=20, verbose=1, batch_size=100)  #execute training"
      ],
      "execution_count": 6,
      "outputs": [
        {
          "output_type": "stream",
          "name": "stdout",
          "text": [
            "Epoch 1/20\n",
            "600/600 [==============================] - 8s 8ms/step - loss: 0.1759 - accuracy: 0.9468 - val_loss: 0.1042 - val_accuracy: 0.9647\n",
            "Epoch 2/20\n",
            "600/600 [==============================] - 4s 7ms/step - loss: 0.0703 - accuracy: 0.9776 - val_loss: 0.0851 - val_accuracy: 0.9729\n",
            "Epoch 3/20\n",
            "600/600 [==============================] - 4s 7ms/step - loss: 0.0465 - accuracy: 0.9852 - val_loss: 0.0893 - val_accuracy: 0.9746\n",
            "Epoch 4/20\n",
            "600/600 [==============================] - 4s 7ms/step - loss: 0.0358 - accuracy: 0.9885 - val_loss: 0.0860 - val_accuracy: 0.9761\n",
            "Epoch 5/20\n",
            "600/600 [==============================] - 4s 7ms/step - loss: 0.0285 - accuracy: 0.9910 - val_loss: 0.0888 - val_accuracy: 0.9765\n",
            "Epoch 6/20\n",
            "600/600 [==============================] - 4s 7ms/step - loss: 0.0256 - accuracy: 0.9919 - val_loss: 0.0842 - val_accuracy: 0.9797\n",
            "Epoch 7/20\n",
            "600/600 [==============================] - 4s 7ms/step - loss: 0.0211 - accuracy: 0.9927 - val_loss: 0.0966 - val_accuracy: 0.9776\n",
            "Epoch 8/20\n",
            "600/600 [==============================] - 4s 7ms/step - loss: 0.0180 - accuracy: 0.9944 - val_loss: 0.0915 - val_accuracy: 0.9792\n",
            "Epoch 9/20\n",
            "600/600 [==============================] - 4s 7ms/step - loss: 0.0209 - accuracy: 0.9934 - val_loss: 0.1102 - val_accuracy: 0.9755\n",
            "Epoch 10/20\n",
            "600/600 [==============================] - 4s 7ms/step - loss: 0.0182 - accuracy: 0.9941 - val_loss: 0.0851 - val_accuracy: 0.9826\n",
            "Epoch 11/20\n",
            "600/600 [==============================] - 4s 7ms/step - loss: 0.0139 - accuracy: 0.9960 - val_loss: 0.1263 - val_accuracy: 0.9748\n",
            "Epoch 12/20\n",
            "600/600 [==============================] - 4s 7ms/step - loss: 0.0139 - accuracy: 0.9960 - val_loss: 0.1007 - val_accuracy: 0.9792\n",
            "Epoch 13/20\n",
            "600/600 [==============================] - 4s 7ms/step - loss: 0.0132 - accuracy: 0.9967 - val_loss: 0.1222 - val_accuracy: 0.9767\n",
            "Epoch 14/20\n",
            "600/600 [==============================] - 4s 7ms/step - loss: 0.0129 - accuracy: 0.9962 - val_loss: 0.1020 - val_accuracy: 0.9798\n",
            "Epoch 15/20\n",
            "600/600 [==============================] - 4s 7ms/step - loss: 0.0144 - accuracy: 0.9963 - val_loss: 0.1079 - val_accuracy: 0.9801\n",
            "Epoch 16/20\n",
            "600/600 [==============================] - 4s 7ms/step - loss: 0.0104 - accuracy: 0.9967 - val_loss: 0.1679 - val_accuracy: 0.9748\n",
            "Epoch 17/20\n",
            "600/600 [==============================] - 4s 7ms/step - loss: 0.0165 - accuracy: 0.9957 - val_loss: 0.1114 - val_accuracy: 0.9812\n",
            "Epoch 18/20\n",
            "600/600 [==============================] - 4s 7ms/step - loss: 0.0099 - accuracy: 0.9973 - val_loss: 0.1074 - val_accuracy: 0.9806\n",
            "Epoch 19/20\n",
            "600/600 [==============================] - 4s 7ms/step - loss: 0.0088 - accuracy: 0.9976 - val_loss: 0.1118 - val_accuracy: 0.9824\n",
            "Epoch 20/20\n",
            "600/600 [==============================] - 4s 7ms/step - loss: 0.0051 - accuracy: 0.9984 - val_loss: 0.1183 - val_accuracy: 0.9830\n"
          ]
        }
      ]
    },
    {
      "cell_type": "code",
      "metadata": {
        "colab": {
          "base_uri": "https://localhost:8080/"
        },
        "id": "pYzyhmL2J0I7",
        "outputId": "44f3c70a-fb5e-43f1-d995-788902f2f040"
      },
      "source": [
        "#get image 1001 from vector\n",
        "x = X_train2[1001]\n",
        "x = numpy.expand_dims(x, axis=0)\n",
        "print(model.predict(x))\n",
        "print(numpy.argmax(model.predict(x)))"
      ],
      "execution_count": 10,
      "outputs": [
        {
          "output_type": "stream",
          "name": "stdout",
          "text": [
            "[[2.48510674e-11 9.90700993e-11 1.03776498e-13 1.04417214e-13\n",
            "  8.76945307e-07 2.69149199e-12 1.71752139e-13 9.99962807e-01\n",
            "  6.17356773e-12 3.63538347e-05]]\n",
            "7\n"
          ]
        }
      ]
    }
  ]
}